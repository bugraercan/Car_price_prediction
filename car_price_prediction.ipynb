{
 "cells": [
  {
   "cell_type": "code",
   "execution_count": 4,
   "id": "9454035f-1c83-43d8-83d1-9460ab1c59b5",
   "metadata": {},
   "outputs": [],
   "source": [
    "import pandas as pd\n",
    "import numpy as np\n",
    "\n",
    "from collections import Counter\n",
    "from collections import OrderedDict\n",
    "import matplotlib.pyplot as plt\n",
    "import seaborn as sns \n",
    "import statsmodels.api as sm\n",
    "from scipy import stats\n",
    "from sklearn.model_selection import train_test_split\n",
    "from math import sqrt\n",
    "from sklearn.metrics import mean_squared_error, r2_score\n",
    "from sklearn.model_selection import GridSearchCV\n",
    "from sklearn.linear_model import LinearRegression\n",
    "from sklearn.linear_model import Lasso\n",
    "from sklearn.linear_model import Ridge\n",
    "from sklearn.svm import SVR\n",
    "from sklearn.tree import DecisionTreeRegressor\n",
    "from sklearn.ensemble import RandomForestRegressor\n",
    "from sklearn.ensemble import StackingRegressor\n",
    "import xgboost as xg\n",
    "from tabulate import tabulate\n",
    "import warnings\n",
    "warnings.filterwarnings('ignore')"
   ]
  },
  {
   "cell_type": "code",
   "execution_count": 11,
   "id": "3d378b5d-8eff-4bc6-80a7-7e00130ce4d7",
   "metadata": {},
   "outputs": [],
   "source": [
    "dataset = pd.read_csv('car_price_prediction.csv')"
   ]
  },
  {
   "cell_type": "code",
   "execution_count": 13,
   "id": "3a9b590a-0f9f-46d9-957f-3933c5933d06",
   "metadata": {},
   "outputs": [
    {
     "data": {
      "text/html": [
       "<div>\n",
       "<style scoped>\n",
       "    .dataframe tbody tr th:only-of-type {\n",
       "        vertical-align: middle;\n",
       "    }\n",
       "\n",
       "    .dataframe tbody tr th {\n",
       "        vertical-align: top;\n",
       "    }\n",
       "\n",
       "    .dataframe thead th {\n",
       "        text-align: right;\n",
       "    }\n",
       "</style>\n",
       "<table border=\"1\" class=\"dataframe\">\n",
       "  <thead>\n",
       "    <tr style=\"text-align: right;\">\n",
       "      <th></th>\n",
       "      <th>ID</th>\n",
       "      <th>Price</th>\n",
       "      <th>Levy</th>\n",
       "      <th>Manufacturer</th>\n",
       "      <th>Model</th>\n",
       "      <th>Prod. year</th>\n",
       "      <th>Category</th>\n",
       "      <th>Leather interior</th>\n",
       "      <th>Fuel type</th>\n",
       "      <th>Engine volume</th>\n",
       "      <th>Mileage</th>\n",
       "      <th>Cylinders</th>\n",
       "      <th>Gear box type</th>\n",
       "      <th>Drive wheels</th>\n",
       "      <th>Doors</th>\n",
       "      <th>Wheel</th>\n",
       "      <th>Color</th>\n",
       "      <th>Airbags</th>\n",
       "    </tr>\n",
       "  </thead>\n",
       "  <tbody>\n",
       "    <tr>\n",
       "      <th>0</th>\n",
       "      <td>45654403</td>\n",
       "      <td>13328</td>\n",
       "      <td>1399</td>\n",
       "      <td>LEXUS</td>\n",
       "      <td>RX 450</td>\n",
       "      <td>2010</td>\n",
       "      <td>Jeep</td>\n",
       "      <td>Yes</td>\n",
       "      <td>Hybrid</td>\n",
       "      <td>3.5</td>\n",
       "      <td>186005 km</td>\n",
       "      <td>6.0</td>\n",
       "      <td>Automatic</td>\n",
       "      <td>4x4</td>\n",
       "      <td>04-May</td>\n",
       "      <td>Left wheel</td>\n",
       "      <td>Silver</td>\n",
       "      <td>12</td>\n",
       "    </tr>\n",
       "    <tr>\n",
       "      <th>1</th>\n",
       "      <td>44731507</td>\n",
       "      <td>16621</td>\n",
       "      <td>1018</td>\n",
       "      <td>CHEVROLET</td>\n",
       "      <td>Equinox</td>\n",
       "      <td>2011</td>\n",
       "      <td>Jeep</td>\n",
       "      <td>No</td>\n",
       "      <td>Petrol</td>\n",
       "      <td>3</td>\n",
       "      <td>192000 km</td>\n",
       "      <td>6.0</td>\n",
       "      <td>Tiptronic</td>\n",
       "      <td>4x4</td>\n",
       "      <td>04-May</td>\n",
       "      <td>Left wheel</td>\n",
       "      <td>Black</td>\n",
       "      <td>8</td>\n",
       "    </tr>\n",
       "    <tr>\n",
       "      <th>2</th>\n",
       "      <td>45774419</td>\n",
       "      <td>8467</td>\n",
       "      <td>-</td>\n",
       "      <td>HONDA</td>\n",
       "      <td>FIT</td>\n",
       "      <td>2006</td>\n",
       "      <td>Hatchback</td>\n",
       "      <td>No</td>\n",
       "      <td>Petrol</td>\n",
       "      <td>1.3</td>\n",
       "      <td>200000 km</td>\n",
       "      <td>4.0</td>\n",
       "      <td>Variator</td>\n",
       "      <td>Front</td>\n",
       "      <td>04-May</td>\n",
       "      <td>Right-hand drive</td>\n",
       "      <td>Black</td>\n",
       "      <td>2</td>\n",
       "    </tr>\n",
       "    <tr>\n",
       "      <th>3</th>\n",
       "      <td>45769185</td>\n",
       "      <td>3607</td>\n",
       "      <td>862</td>\n",
       "      <td>FORD</td>\n",
       "      <td>Escape</td>\n",
       "      <td>2011</td>\n",
       "      <td>Jeep</td>\n",
       "      <td>Yes</td>\n",
       "      <td>Hybrid</td>\n",
       "      <td>2.5</td>\n",
       "      <td>168966 km</td>\n",
       "      <td>4.0</td>\n",
       "      <td>Automatic</td>\n",
       "      <td>4x4</td>\n",
       "      <td>04-May</td>\n",
       "      <td>Left wheel</td>\n",
       "      <td>White</td>\n",
       "      <td>0</td>\n",
       "    </tr>\n",
       "    <tr>\n",
       "      <th>4</th>\n",
       "      <td>45809263</td>\n",
       "      <td>11726</td>\n",
       "      <td>446</td>\n",
       "      <td>HONDA</td>\n",
       "      <td>FIT</td>\n",
       "      <td>2014</td>\n",
       "      <td>Hatchback</td>\n",
       "      <td>Yes</td>\n",
       "      <td>Petrol</td>\n",
       "      <td>1.3</td>\n",
       "      <td>91901 km</td>\n",
       "      <td>4.0</td>\n",
       "      <td>Automatic</td>\n",
       "      <td>Front</td>\n",
       "      <td>04-May</td>\n",
       "      <td>Left wheel</td>\n",
       "      <td>Silver</td>\n",
       "      <td>4</td>\n",
       "    </tr>\n",
       "    <tr>\n",
       "      <th>5</th>\n",
       "      <td>45802912</td>\n",
       "      <td>39493</td>\n",
       "      <td>891</td>\n",
       "      <td>HYUNDAI</td>\n",
       "      <td>Santa FE</td>\n",
       "      <td>2016</td>\n",
       "      <td>Jeep</td>\n",
       "      <td>Yes</td>\n",
       "      <td>Diesel</td>\n",
       "      <td>2</td>\n",
       "      <td>160931 km</td>\n",
       "      <td>4.0</td>\n",
       "      <td>Automatic</td>\n",
       "      <td>Front</td>\n",
       "      <td>04-May</td>\n",
       "      <td>Left wheel</td>\n",
       "      <td>White</td>\n",
       "      <td>4</td>\n",
       "    </tr>\n",
       "    <tr>\n",
       "      <th>6</th>\n",
       "      <td>45656768</td>\n",
       "      <td>1803</td>\n",
       "      <td>761</td>\n",
       "      <td>TOYOTA</td>\n",
       "      <td>Prius</td>\n",
       "      <td>2010</td>\n",
       "      <td>Hatchback</td>\n",
       "      <td>Yes</td>\n",
       "      <td>Hybrid</td>\n",
       "      <td>1.8</td>\n",
       "      <td>258909 km</td>\n",
       "      <td>4.0</td>\n",
       "      <td>Automatic</td>\n",
       "      <td>Front</td>\n",
       "      <td>04-May</td>\n",
       "      <td>Left wheel</td>\n",
       "      <td>White</td>\n",
       "      <td>12</td>\n",
       "    </tr>\n",
       "    <tr>\n",
       "      <th>7</th>\n",
       "      <td>45816158</td>\n",
       "      <td>549</td>\n",
       "      <td>751</td>\n",
       "      <td>HYUNDAI</td>\n",
       "      <td>Sonata</td>\n",
       "      <td>2013</td>\n",
       "      <td>Sedan</td>\n",
       "      <td>Yes</td>\n",
       "      <td>Petrol</td>\n",
       "      <td>2.4</td>\n",
       "      <td>216118 km</td>\n",
       "      <td>4.0</td>\n",
       "      <td>Automatic</td>\n",
       "      <td>Front</td>\n",
       "      <td>04-May</td>\n",
       "      <td>Left wheel</td>\n",
       "      <td>Grey</td>\n",
       "      <td>12</td>\n",
       "    </tr>\n",
       "    <tr>\n",
       "      <th>8</th>\n",
       "      <td>45641395</td>\n",
       "      <td>1098</td>\n",
       "      <td>394</td>\n",
       "      <td>TOYOTA</td>\n",
       "      <td>Camry</td>\n",
       "      <td>2014</td>\n",
       "      <td>Sedan</td>\n",
       "      <td>Yes</td>\n",
       "      <td>Hybrid</td>\n",
       "      <td>2.5</td>\n",
       "      <td>398069 km</td>\n",
       "      <td>4.0</td>\n",
       "      <td>Automatic</td>\n",
       "      <td>Front</td>\n",
       "      <td>04-May</td>\n",
       "      <td>Left wheel</td>\n",
       "      <td>Black</td>\n",
       "      <td>12</td>\n",
       "    </tr>\n",
       "    <tr>\n",
       "      <th>9</th>\n",
       "      <td>45756839</td>\n",
       "      <td>26657</td>\n",
       "      <td>-</td>\n",
       "      <td>LEXUS</td>\n",
       "      <td>RX 350</td>\n",
       "      <td>2007</td>\n",
       "      <td>Jeep</td>\n",
       "      <td>Yes</td>\n",
       "      <td>Petrol</td>\n",
       "      <td>3.5</td>\n",
       "      <td>128500 km</td>\n",
       "      <td>6.0</td>\n",
       "      <td>Automatic</td>\n",
       "      <td>4x4</td>\n",
       "      <td>04-May</td>\n",
       "      <td>Left wheel</td>\n",
       "      <td>Silver</td>\n",
       "      <td>12</td>\n",
       "    </tr>\n",
       "  </tbody>\n",
       "</table>\n",
       "</div>"
      ],
      "text/plain": [
       "         ID  Price  Levy Manufacturer     Model  Prod. year   Category  \\\n",
       "0  45654403  13328  1399        LEXUS    RX 450        2010       Jeep   \n",
       "1  44731507  16621  1018    CHEVROLET   Equinox        2011       Jeep   \n",
       "2  45774419   8467     -        HONDA       FIT        2006  Hatchback   \n",
       "3  45769185   3607   862         FORD    Escape        2011       Jeep   \n",
       "4  45809263  11726   446        HONDA       FIT        2014  Hatchback   \n",
       "5  45802912  39493   891      HYUNDAI  Santa FE        2016       Jeep   \n",
       "6  45656768   1803   761       TOYOTA     Prius        2010  Hatchback   \n",
       "7  45816158    549   751      HYUNDAI    Sonata        2013      Sedan   \n",
       "8  45641395   1098   394       TOYOTA     Camry        2014      Sedan   \n",
       "9  45756839  26657     -        LEXUS    RX 350        2007       Jeep   \n",
       "\n",
       "  Leather interior Fuel type Engine volume    Mileage  Cylinders  \\\n",
       "0              Yes    Hybrid           3.5  186005 km        6.0   \n",
       "1               No    Petrol             3  192000 km        6.0   \n",
       "2               No    Petrol           1.3  200000 km        4.0   \n",
       "3              Yes    Hybrid           2.5  168966 km        4.0   \n",
       "4              Yes    Petrol           1.3   91901 km        4.0   \n",
       "5              Yes    Diesel             2  160931 km        4.0   \n",
       "6              Yes    Hybrid           1.8  258909 km        4.0   \n",
       "7              Yes    Petrol           2.4  216118 km        4.0   \n",
       "8              Yes    Hybrid           2.5  398069 km        4.0   \n",
       "9              Yes    Petrol           3.5  128500 km        6.0   \n",
       "\n",
       "  Gear box type Drive wheels   Doors             Wheel   Color  Airbags  \n",
       "0     Automatic          4x4  04-May        Left wheel  Silver       12  \n",
       "1     Tiptronic          4x4  04-May        Left wheel   Black        8  \n",
       "2      Variator        Front  04-May  Right-hand drive   Black        2  \n",
       "3     Automatic          4x4  04-May        Left wheel   White        0  \n",
       "4     Automatic        Front  04-May        Left wheel  Silver        4  \n",
       "5     Automatic        Front  04-May        Left wheel   White        4  \n",
       "6     Automatic        Front  04-May        Left wheel   White       12  \n",
       "7     Automatic        Front  04-May        Left wheel    Grey       12  \n",
       "8     Automatic        Front  04-May        Left wheel   Black       12  \n",
       "9     Automatic          4x4  04-May        Left wheel  Silver       12  "
      ]
     },
     "execution_count": 13,
     "metadata": {},
     "output_type": "execute_result"
    }
   ],
   "source": [
    "dataset.head(10)"
   ]
  },
  {
   "cell_type": "code",
   "execution_count": 15,
   "id": "c7a8f72d-b3c0-468f-9837-bcb5e75cc6bd",
   "metadata": {},
   "outputs": [
    {
     "data": {
      "text/plain": [
       "(19237, 18)"
      ]
     },
     "execution_count": 15,
     "metadata": {},
     "output_type": "execute_result"
    }
   ],
   "source": [
    "dataset.shape"
   ]
  },
  {
   "cell_type": "code",
   "execution_count": 16,
   "id": "c565f893-201f-4e9d-8ab7-85a6a4b312cf",
   "metadata": {},
   "outputs": [
    {
     "name": "stdout",
     "output_type": "stream",
     "text": [
      "<class 'pandas.core.frame.DataFrame'>\n",
      "RangeIndex: 19237 entries, 0 to 19236\n",
      "Data columns (total 18 columns):\n",
      " #   Column            Non-Null Count  Dtype  \n",
      "---  ------            --------------  -----  \n",
      " 0   ID                19237 non-null  int64  \n",
      " 1   Price             19237 non-null  int64  \n",
      " 2   Levy              19237 non-null  object \n",
      " 3   Manufacturer      19237 non-null  object \n",
      " 4   Model             19237 non-null  object \n",
      " 5   Prod. year        19237 non-null  int64  \n",
      " 6   Category          19237 non-null  object \n",
      " 7   Leather interior  19237 non-null  object \n",
      " 8   Fuel type         19237 non-null  object \n",
      " 9   Engine volume     19237 non-null  object \n",
      " 10  Mileage           19237 non-null  object \n",
      " 11  Cylinders         19237 non-null  float64\n",
      " 12  Gear box type     19237 non-null  object \n",
      " 13  Drive wheels      19237 non-null  object \n",
      " 14  Doors             19237 non-null  object \n",
      " 15  Wheel             19237 non-null  object \n",
      " 16  Color             19237 non-null  object \n",
      " 17  Airbags           19237 non-null  int64  \n",
      "dtypes: float64(1), int64(4), object(13)\n",
      "memory usage: 2.6+ MB\n"
     ]
    }
   ],
   "source": [
    "dataset.info()"
   ]
  },
  {
   "cell_type": "markdown",
   "id": "8cb97d82-e1ef-4c2a-ad87-88450c3b3221",
   "metadata": {},
   "source": [
    "***Here, the columns - Manufacturer, Model, Category, Leather interior, Fuel type, Gear box type, Drive wheels, Doors, Wheel, Color are categorical. Hence, we modify the datatype of these columns to category.****"
   ]
  },
  {
   "cell_type": "code",
   "execution_count": 21,
   "id": "cb7a5cb9-e51a-47f5-88ac-7d095e2c20d5",
   "metadata": {},
   "outputs": [],
   "source": [
    "dataset.Manufacturer = dataset.Manufacturer.astype('category')\n",
    "dataset.Model = dataset.Model.astype('category')\n",
    "dataset.Category = dataset.Category.astype('category')\n",
    "dataset['Leather interior'] = dataset['Leather interior'].astype('category')\n",
    "dataset['Fuel type'] = dataset['Fuel type'].astype('category')\n",
    "dataset['Gear box type'] = dataset['Gear box type'].astype('category')\n",
    "dataset['Drive wheels'] = dataset['Drive wheels'].astype('category')\n",
    "dataset.Doors = dataset.Doors.astype('category')\n",
    "dataset.Wheel = dataset.Wheel.astype('category')\n",
    "dataset.Color = dataset.Color.astype('category')"
   ]
  },
  {
   "cell_type": "code",
   "execution_count": 22,
   "id": "090052a7-773f-491c-984a-98928438032c",
   "metadata": {},
   "outputs": [
    {
     "name": "stdout",
     "output_type": "stream",
     "text": [
      "<class 'pandas.core.frame.DataFrame'>\n",
      "RangeIndex: 19237 entries, 0 to 19236\n",
      "Data columns (total 18 columns):\n",
      " #   Column            Non-Null Count  Dtype   \n",
      "---  ------            --------------  -----   \n",
      " 0   ID                19237 non-null  int64   \n",
      " 1   Price             19237 non-null  int64   \n",
      " 2   Levy              19237 non-null  object  \n",
      " 3   Manufacturer      19237 non-null  category\n",
      " 4   Model             19237 non-null  category\n",
      " 5   Prod. year        19237 non-null  int64   \n",
      " 6   Category          19237 non-null  category\n",
      " 7   Leather interior  19237 non-null  category\n",
      " 8   Fuel type         19237 non-null  category\n",
      " 9   Engine volume     19237 non-null  object  \n",
      " 10  Mileage           19237 non-null  object  \n",
      " 11  Cylinders         19237 non-null  float64 \n",
      " 12  Gear box type     19237 non-null  category\n",
      " 13  Drive wheels      19237 non-null  category\n",
      " 14  Doors             19237 non-null  category\n",
      " 15  Wheel             19237 non-null  category\n",
      " 16  Color             19237 non-null  category\n",
      " 17  Airbags           19237 non-null  int64   \n",
      "dtypes: category(10), float64(1), int64(4), object(3)\n",
      "memory usage: 1.5+ MB\n"
     ]
    }
   ],
   "source": [
    "dataset.info()"
   ]
  },
  {
   "cell_type": "code",
   "execution_count": 23,
   "id": "fd5f6690-2b99-40dd-b04b-d3f95c7a10db",
   "metadata": {},
   "outputs": [],
   "source": [
    "#Missing Values"
   ]
  },
  {
   "cell_type": "code",
   "execution_count": 24,
   "id": "4798a810-4f7c-465f-8b8b-ad1020ad8cc9",
   "metadata": {},
   "outputs": [
    {
     "name": "stdout",
     "output_type": "stream",
     "text": [
      "Missing values in the dataset:\n",
      "\n",
      "Column: ID - 0\n",
      "Column: Price - 0\n",
      "Column: Levy - 5819\n",
      "Column: Manufacturer - 0\n",
      "Column: Model - 0\n",
      "Column: Prod. year - 0\n",
      "Column: Category - 0\n",
      "Column: Leather interior - 0\n",
      "Column: Fuel type - 0\n",
      "Column: Engine volume - 0\n",
      "Column: Mileage - 0\n",
      "Column: Cylinders - 0\n",
      "Column: Gear box type - 0\n",
      "Column: Drive wheels - 0\n",
      "Column: Doors - 0\n",
      "Column: Wheel - 0\n",
      "Column: Color - 0\n",
      "Column: Airbags - 0\n"
     ]
    }
   ],
   "source": [
    "print('Missing values in the dataset:\\n')\n",
    "for each_column in dataset.columns:\n",
    "    print('Column: {} - {}'.format(each_column, list(dataset[each_column]).count('-')))"
   ]
  },
  {
   "cell_type": "code",
   "execution_count": 25,
   "id": "b45110c9-4302-4313-bb4b-0cfcc72aa2d9",
   "metadata": {},
   "outputs": [
    {
     "data": {
      "text/plain": [
       "5819"
      ]
     },
     "execution_count": 25,
     "metadata": {},
     "output_type": "execute_result"
    }
   ],
   "source": [
    "### Replacing the '-' to NA's in the column - Levy\n",
    "\n",
    "dataset['Levy'] = [np.nan if value == '-' else float(value) for value in dataset['Levy']]\n",
    "dataset['Levy'].isnull().sum()"
   ]
  },
  {
   "cell_type": "code",
   "execution_count": 27,
   "id": "53fae163-ff86-4626-8459-227e447a3f35",
   "metadata": {},
   "outputs": [
    {
     "data": {
      "text/html": [
       "<div>\n",
       "<style scoped>\n",
       "    .dataframe tbody tr th:only-of-type {\n",
       "        vertical-align: middle;\n",
       "    }\n",
       "\n",
       "    .dataframe tbody tr th {\n",
       "        vertical-align: top;\n",
       "    }\n",
       "\n",
       "    .dataframe thead th {\n",
       "        text-align: right;\n",
       "    }\n",
       "</style>\n",
       "<table border=\"1\" class=\"dataframe\">\n",
       "  <thead>\n",
       "    <tr style=\"text-align: right;\">\n",
       "      <th></th>\n",
       "      <th>count</th>\n",
       "      <th>mean</th>\n",
       "      <th>std</th>\n",
       "      <th>min</th>\n",
       "      <th>25%</th>\n",
       "      <th>50%</th>\n",
       "      <th>75%</th>\n",
       "      <th>max</th>\n",
       "    </tr>\n",
       "  </thead>\n",
       "  <tbody>\n",
       "    <tr>\n",
       "      <th>ID</th>\n",
       "      <td>19237.0</td>\n",
       "      <td>4.557654e+07</td>\n",
       "      <td>936591.422799</td>\n",
       "      <td>20746880.0</td>\n",
       "      <td>45698374.0</td>\n",
       "      <td>45772308.0</td>\n",
       "      <td>45802036.0</td>\n",
       "      <td>45816654.0</td>\n",
       "    </tr>\n",
       "    <tr>\n",
       "      <th>Price</th>\n",
       "      <td>19237.0</td>\n",
       "      <td>1.855593e+04</td>\n",
       "      <td>190581.269684</td>\n",
       "      <td>1.0</td>\n",
       "      <td>5331.0</td>\n",
       "      <td>13172.0</td>\n",
       "      <td>22075.0</td>\n",
       "      <td>26307500.0</td>\n",
       "    </tr>\n",
       "    <tr>\n",
       "      <th>Levy</th>\n",
       "      <td>13418.0</td>\n",
       "      <td>9.068381e+02</td>\n",
       "      <td>461.867051</td>\n",
       "      <td>87.0</td>\n",
       "      <td>640.0</td>\n",
       "      <td>781.0</td>\n",
       "      <td>1058.0</td>\n",
       "      <td>11714.0</td>\n",
       "    </tr>\n",
       "    <tr>\n",
       "      <th>Prod. year</th>\n",
       "      <td>19237.0</td>\n",
       "      <td>2.010913e+03</td>\n",
       "      <td>5.668673</td>\n",
       "      <td>1939.0</td>\n",
       "      <td>2009.0</td>\n",
       "      <td>2012.0</td>\n",
       "      <td>2015.0</td>\n",
       "      <td>2020.0</td>\n",
       "    </tr>\n",
       "    <tr>\n",
       "      <th>Cylinders</th>\n",
       "      <td>19237.0</td>\n",
       "      <td>4.582991e+00</td>\n",
       "      <td>1.199933</td>\n",
       "      <td>1.0</td>\n",
       "      <td>4.0</td>\n",
       "      <td>4.0</td>\n",
       "      <td>4.0</td>\n",
       "      <td>16.0</td>\n",
       "    </tr>\n",
       "    <tr>\n",
       "      <th>Airbags</th>\n",
       "      <td>19237.0</td>\n",
       "      <td>6.582627e+00</td>\n",
       "      <td>4.320168</td>\n",
       "      <td>0.0</td>\n",
       "      <td>4.0</td>\n",
       "      <td>6.0</td>\n",
       "      <td>12.0</td>\n",
       "      <td>16.0</td>\n",
       "    </tr>\n",
       "  </tbody>\n",
       "</table>\n",
       "</div>"
      ],
      "text/plain": [
       "              count          mean            std         min         25%  \\\n",
       "ID          19237.0  4.557654e+07  936591.422799  20746880.0  45698374.0   \n",
       "Price       19237.0  1.855593e+04  190581.269684         1.0      5331.0   \n",
       "Levy        13418.0  9.068381e+02     461.867051        87.0       640.0   \n",
       "Prod. year  19237.0  2.010913e+03       5.668673      1939.0      2009.0   \n",
       "Cylinders   19237.0  4.582991e+00       1.199933         1.0         4.0   \n",
       "Airbags     19237.0  6.582627e+00       4.320168         0.0         4.0   \n",
       "\n",
       "                   50%         75%         max  \n",
       "ID          45772308.0  45802036.0  45816654.0  \n",
       "Price          13172.0     22075.0  26307500.0  \n",
       "Levy             781.0      1058.0     11714.0  \n",
       "Prod. year      2012.0      2015.0      2020.0  \n",
       "Cylinders          4.0         4.0        16.0  \n",
       "Airbags            6.0        12.0        16.0  "
      ]
     },
     "execution_count": 27,
     "metadata": {},
     "output_type": "execute_result"
    }
   ],
   "source": [
    "dataset.describe().T"
   ]
  },
  {
   "cell_type": "code",
   "execution_count": 28,
   "id": "6d0a6f46-972c-47ed-a27d-91dd19257341",
   "metadata": {},
   "outputs": [
    {
     "data": {
      "text/plain": [
       "Sedan          8736\n",
       "Jeep           5473\n",
       "Hatchback      2847\n",
       "Minivan         647\n",
       "Coupe           532\n",
       "Universal       364\n",
       "Microbus        306\n",
       "Goods wagon     233\n",
       "Pickup           52\n",
       "Cabriolet        36\n",
       "Limousine        11\n",
       "Name: Category, dtype: int64"
      ]
     },
     "execution_count": 28,
     "metadata": {},
     "output_type": "execute_result"
    }
   ],
   "source": [
    "### Value counts of the column - Category\n",
    "category_count = dataset['Category'].value_counts(dropna = False)\n",
    "category_count"
   ]
  },
  {
   "cell_type": "code",
   "execution_count": 38,
   "id": "58c67c88-bc2e-47f6-8831-6630fdaecf73",
   "metadata": {},
   "outputs": [
    {
     "data": {
      "image/png": "[encoded data removed]",
      "text/plain": [
       "<Figure size 864x432 with 1 Axes>"
      ]
     },
     "metadata": {
      "needs_background": "light"
     },
     "output_type": "display_data"
    }
   ],
   "source": [
    "plt.figure(figsize = (12, 6))\n",
    "sns.barplot(category_count.index, category_count.values, alpha = 0.8)\n",
    "plt.title('Bar graph showing the value counts of the column - Category')\n",
    "plt.ylabel('Number of Occurrences', fontsize = 12)\n",
    "plt.xlabel('Category', fontsize = 12)\n",
    "plt.show()"
   ]
  },
  {
   "cell_type": "code",
   "execution_count": 39,
   "id": "e902c772-91c6-4308-89df-0fbebbb5ceee",
   "metadata": {},
   "outputs": [],
   "source": [
    "### Bar graph showing the value counts of the column - Leather interior"
   ]
  },
  {
   "cell_type": "code",
   "execution_count": 40,
   "id": "5eb03991-2739-4571-a41b-6e4c848d8c3c",
   "metadata": {},
   "outputs": [
    {
     "data": {
      "text/plain": [
       "Yes    13954\n",
       "No      5283\n",
       "Name: Leather interior, dtype: int64"
      ]
     },
     "execution_count": 40,
     "metadata": {},
     "output_type": "execute_result"
    }
   ],
   "source": [
    "interior_count = dataset['Leather interior'].value_counts(dropna = False)\n",
    "interior_count"
   ]
  },
  {
   "cell_type": "code",
   "execution_count": 42,
   "id": "b8518ad5-8dab-43cf-a889-8d16b2b5e47d",
   "metadata": {},
   "outputs": [
    {
     "data": {
      "image/png": "[encoded data removed]",
      "text/plain": [
       "<Figure size 432x288 with 1 Axes>"
      ]
     },
     "metadata": {
      "needs_background": "light"
     },
     "output_type": "display_data"
    }
   ],
   "source": [
    "sns.barplot(interior_count.index, interior_count.values, alpha = 0.8)\n",
    "plt.title('Bar graph showing the value counts of the column - Leather interior')\n",
    "plt.ylabel('Number of Occurences', fontsize = 12)\n",
    "plt.xlabel('Leather interior', fontsize = 12)\n",
    "plt.show()"
   ]
  },
  {
   "cell_type": "markdown",
   "id": "bf2c65b7-aef0-4263-bf14-a9218160cde8",
   "metadata": {},
   "source": [
    "From the above graph, we can see that most of the cars have a leather interior."
   ]
  },
  {
   "cell_type": "code",
   "execution_count": 44,
   "id": "c1b85dc1-885f-41c2-9212-0cfb8b3b6b67",
   "metadata": {},
   "outputs": [
    {
     "data": {
      "text/html": [
       "<div>\n",
       "<style scoped>\n",
       "    .dataframe tbody tr th:only-of-type {\n",
       "        vertical-align: middle;\n",
       "    }\n",
       "\n",
       "    .dataframe tbody tr th {\n",
       "        vertical-align: top;\n",
       "    }\n",
       "\n",
       "    .dataframe thead th {\n",
       "        text-align: right;\n",
       "    }\n",
       "</style>\n",
       "<table border=\"1\" class=\"dataframe\">\n",
       "  <thead>\n",
       "    <tr style=\"text-align: right;\">\n",
       "      <th></th>\n",
       "      <th>Leather interior</th>\n",
       "      <th>Price</th>\n",
       "    </tr>\n",
       "  </thead>\n",
       "  <tbody>\n",
       "    <tr>\n",
       "      <th>0</th>\n",
       "      <td>No</td>\n",
       "      <td>18322.323301</td>\n",
       "    </tr>\n",
       "    <tr>\n",
       "      <th>1</th>\n",
       "      <td>Yes</td>\n",
       "      <td>18644.369930</td>\n",
       "    </tr>\n",
       "  </tbody>\n",
       "</table>\n",
       "</div>"
      ],
      "text/plain": [
       "  Leather interior         Price\n",
       "0               No  18322.323301\n",
       "1              Yes  18644.369930"
      ]
     },
     "execution_count": 44,
     "metadata": {},
     "output_type": "execute_result"
    }
   ],
   "source": [
    "mean_price_interior = dataset[['Leather interior', 'Price']].groupby('Leather interior', as_index = False).mean()\n",
    "mean_price_interior"
   ]
  },
  {
   "cell_type": "code",
   "execution_count": 54,
   "id": "0049ff4d-8add-498a-931c-b2d4e062b127",
   "metadata": {},
   "outputs": [
    {
     "data": {
      "text/plain": [
       "<function matplotlib.pyplot.show(close=None, block=None)>"
      ]
     },
     "execution_count": 54,
     "metadata": {},
     "output_type": "execute_result"
    },
    {
     "data": {
      "image/png": "[encoded data removed]",
      "text/plain": [
       "<Figure size 432x288 with 1 Axes>"
      ]
     },
     "metadata": {
      "needs_background": "light"
     },
     "output_type": "display_data"
    }
   ],
   "source": [
    "sns.barplot(mean_price_interior['Leather interior'],\n",
    "           mean_price_interior['Price'], alpha = 0.8)\n",
    "plt.title('Mean Sales Price for each Leather interior')\n",
    "plt.ylabel('Mean Price', fontsize = 12)\n",
    "plt.xlabel('Leather interior', fontsize = 12)\n",
    "plt.show"
   ]
  },
  {
   "cell_type": "markdown",
   "id": "b74a9790-d01a-40ac-a429-6c4a46a47af3",
   "metadata": {},
   "source": [
    "From the above graph, we can see that the mean price of the car is same in both the cases."
   ]
  },
  {
   "cell_type": "markdown",
   "id": "8feec657-bf64-4d0f-9fc4-9e4a64ba7c3d",
   "metadata": {},
   "source": [
    "## Fuel type"
   ]
  },
  {
   "cell_type": "code",
   "execution_count": 46,
   "id": "14325b47-809c-4ec9-8ca9-3f12aa3c8d74",
   "metadata": {},
   "outputs": [
    {
     "data": {
      "text/plain": [
       "Petrol            10150\n",
       "Diesel             4036\n",
       "Hybrid             3578\n",
       "LPG                 892\n",
       "CNG                 494\n",
       "Plug-in Hybrid       86\n",
       "Hydrogen              1\n",
       "Name: Fuel type, dtype: int64"
      ]
     },
     "execution_count": 46,
     "metadata": {},
     "output_type": "execute_result"
    }
   ],
   "source": [
    "fuel_count = dataset['Fuel type'].value_counts(dropna = False)\n",
    "fuel_count"
   ]
  },
  {
   "cell_type": "code",
   "execution_count": 47,
   "id": "0da17810-f8b1-4a61-bdfb-c4f7269449ec",
   "metadata": {},
   "outputs": [],
   "source": [
    "### Bar graph showing the value counts of the column - Fuel type"
   ]
  },
  {
   "cell_type": "code",
   "execution_count": 48,
   "id": "b04dbb7a-7684-4e53-9215-ab62dedc4292",
   "metadata": {},
   "outputs": [
    {
     "data": {
      "image/png": "[encoded data removed]",
      "text/plain": [
       "<Figure size 504x360 with 1 Axes>"
      ]
     },
     "metadata": {
      "needs_background": "light"
     },
     "output_type": "display_data"
    }
   ],
   "source": [
    "plt.figure(figsize=(7,5))\n",
    "sns.barplot(fuel_count.index, fuel_count.values, alpha = 0.8)\n",
    "plt.title('Bar graph showing the value counts of the column -Fuel type')\n",
    "plt.ylabel('Number of Occurences', fontsize = 12)\n",
    "plt.xlabel('Fuel type', fontsize = 12)\n",
    "plt.show()"
   ]
  },
  {
   "cell_type": "markdown",
   "id": "3801aa65-b995-457e-a190-aa411ece5b46",
   "metadata": {},
   "source": [
    "***From the above graph, there is no sufficient data for the fuel types - Hydrogen and Plug-in Hybrid.***"
   ]
  },
  {
   "cell_type": "code",
   "execution_count": 50,
   "id": "01deb603-6d05-4d76-9fd7-2496fa1d2482",
   "metadata": {},
   "outputs": [],
   "source": [
    "# Mean price per each Fuel type"
   ]
  },
  {
   "cell_type": "code",
   "execution_count": 53,
   "id": "75513e22-5925-424e-b97c-4756008ac735",
   "metadata": {},
   "outputs": [
    {
     "data": {
      "text/html": [
       "<div>\n",
       "<style scoped>\n",
       "    .dataframe tbody tr th:only-of-type {\n",
       "        vertical-align: middle;\n",
       "    }\n",
       "\n",
       "    .dataframe tbody tr th {\n",
       "        vertical-align: top;\n",
       "    }\n",
       "\n",
       "    .dataframe thead th {\n",
       "        text-align: right;\n",
       "    }\n",
       "</style>\n",
       "<table border=\"1\" class=\"dataframe\">\n",
       "  <thead>\n",
       "    <tr style=\"text-align: right;\">\n",
       "      <th></th>\n",
       "      <th>Fuel type</th>\n",
       "      <th>Price</th>\n",
       "    </tr>\n",
       "  </thead>\n",
       "  <tbody>\n",
       "    <tr>\n",
       "      <th>0</th>\n",
       "      <td>CNG</td>\n",
       "      <td>8509.591093</td>\n",
       "    </tr>\n",
       "    <tr>\n",
       "      <th>1</th>\n",
       "      <td>Diesel</td>\n",
       "      <td>30631.071358</td>\n",
       "    </tr>\n",
       "    <tr>\n",
       "      <th>2</th>\n",
       "      <td>Hybrid</td>\n",
       "      <td>10849.320570</td>\n",
       "    </tr>\n",
       "    <tr>\n",
       "      <th>3</th>\n",
       "      <td>Hydrogen</td>\n",
       "      <td>20385.000000</td>\n",
       "    </tr>\n",
       "    <tr>\n",
       "      <th>4</th>\n",
       "      <td>LPG</td>\n",
       "      <td>13309.438341</td>\n",
       "    </tr>\n",
       "    <tr>\n",
       "      <th>5</th>\n",
       "      <td>Petrol</td>\n",
       "      <td>17377.351527</td>\n",
       "    </tr>\n",
       "    <tr>\n",
       "      <th>6</th>\n",
       "      <td>Plug-in Hybrid</td>\n",
       "      <td>23700.453488</td>\n",
       "    </tr>\n",
       "  </tbody>\n",
       "</table>\n",
       "</div>"
      ],
      "text/plain": [
       "        Fuel type         Price\n",
       "0             CNG   8509.591093\n",
       "1          Diesel  30631.071358\n",
       "2          Hybrid  10849.320570\n",
       "3        Hydrogen  20385.000000\n",
       "4             LPG  13309.438341\n",
       "5          Petrol  17377.351527\n",
       "6  Plug-in Hybrid  23700.453488"
      ]
     },
     "execution_count": 53,
     "metadata": {},
     "output_type": "execute_result"
    }
   ],
   "source": [
    "mean_price_fuel = dataset[['Fuel type', \n",
    "                           'Price']].groupby('Fuel type', \n",
    "                                                         as_index = False).mean()\n",
    "mean_price_fuel"
   ]
  },
  {
   "cell_type": "code",
   "execution_count": 55,
   "id": "665eb422-09d6-4a3e-a35b-830e6972bb23",
   "metadata": {},
   "outputs": [
    {
     "data": {
      "image/png": "[encoded data removed]",
      "text/plain": [
       "<Figure size 504x360 with 1 Axes>"
      ]
     },
     "metadata": {
      "needs_background": "light"
     },
     "output_type": "display_data"
    }
   ],
   "source": [
    "plt.figure(figsize = (7,5))\n",
    "sns.barplot(mean_price_fuel['Fuel type'], \n",
    "           mean_price_fuel['Price'], alpha = 0.8)\n",
    "plt.title('Mean Sales Price for each Fuel type')\n",
    "plt.ylabel('Mean Price', fontsize = 12)\n",
    "plt.xlabel('Fuel type', fontsize = 12)\n",
    "plt.show()"
   ]
  },
  {
   "cell_type": "markdown",
   "id": "231f3a83-4fa4-4536-bafc-d709ea48cc76",
   "metadata": {},
   "source": [
    "## Gear box type"
   ]
  },
  {
   "cell_type": "code",
   "execution_count": 56,
   "id": "e893b7b0-ba4a-4914-a159-10175b4dcc65",
   "metadata": {},
   "outputs": [
    {
     "data": {
      "text/plain": [
       "Automatic    13514\n",
       "Tiptronic     3102\n",
       "Manual        1875\n",
       "Variator       746\n",
       "Name: Gear box type, dtype: int64"
      ]
     },
     "execution_count": 56,
     "metadata": {},
     "output_type": "execute_result"
    }
   ],
   "source": [
    "gear_count = dataset['Gear box type'].value_counts(dropna = False)\n",
    "gear_count"
   ]
  },
  {
   "cell_type": "code",
   "execution_count": 58,
   "id": "bbafa078-c276-4d98-a7c9-e4ff3d7194e1",
   "metadata": {},
   "outputs": [
    {
     "data": {
      "image/png": "[encoded data removed]",
      "text/plain": [
       "<Figure size 432x288 with 1 Axes>"
      ]
     },
     "metadata": {
      "needs_background": "light"
     },
     "output_type": "display_data"
    }
   ],
   "source": [
    "sns.barplot(gear_count.index, gear_count.values, alpha = 0.8)\n",
    "plt.title('Bar graph showing the value counts of the column - Gear box type')\n",
    "plt.ylabel('Number of Occurences', fontsize = 12)\n",
    "plt.xlabel('Gear box type', fontsize = 12)\n",
    "plt.show()"
   ]
  },
  {
   "cell_type": "markdown",
   "id": "775cde15-acd6-421a-ac7c-c1bf59a85362",
   "metadata": {},
   "source": [
    "***From the above graph, we can see that most of the cars have an automatic gear box type***"
   ]
  },
  {
   "cell_type": "code",
   "execution_count": 59,
   "id": "34ff58d0-e611-4b6c-a060-75e0661303ef",
   "metadata": {},
   "outputs": [
    {
     "data": {
      "text/html": [
       "<div>\n",
       "<style scoped>\n",
       "    .dataframe tbody tr th:only-of-type {\n",
       "        vertical-align: middle;\n",
       "    }\n",
       "\n",
       "    .dataframe tbody tr th {\n",
       "        vertical-align: top;\n",
       "    }\n",
       "\n",
       "    .dataframe thead th {\n",
       "        text-align: right;\n",
       "    }\n",
       "</style>\n",
       "<table border=\"1\" class=\"dataframe\">\n",
       "  <thead>\n",
       "    <tr style=\"text-align: right;\">\n",
       "      <th></th>\n",
       "      <th>Gear box type</th>\n",
       "      <th>Price</th>\n",
       "    </tr>\n",
       "  </thead>\n",
       "  <tbody>\n",
       "    <tr>\n",
       "      <th>0</th>\n",
       "      <td>Automatic</td>\n",
       "      <td>15974.326032</td>\n",
       "    </tr>\n",
       "    <tr>\n",
       "      <th>1</th>\n",
       "      <td>Manual</td>\n",
       "      <td>25614.896533</td>\n",
       "    </tr>\n",
       "    <tr>\n",
       "      <th>2</th>\n",
       "      <td>Tiptronic</td>\n",
       "      <td>26448.307221</td>\n",
       "    </tr>\n",
       "    <tr>\n",
       "      <th>3</th>\n",
       "      <td>Variator</td>\n",
       "      <td>14762.399464</td>\n",
       "    </tr>\n",
       "  </tbody>\n",
       "</table>\n",
       "</div>"
      ],
      "text/plain": [
       "  Gear box type         Price\n",
       "0     Automatic  15974.326032\n",
       "1        Manual  25614.896533\n",
       "2     Tiptronic  26448.307221\n",
       "3      Variator  14762.399464"
      ]
     },
     "execution_count": 59,
     "metadata": {},
     "output_type": "execute_result"
    }
   ],
   "source": [
    "mean_price_gear = dataset[['Gear box type',\n",
    "                           'Price']].groupby('Gear box type', \n",
    "                                            as_index = False).mean()\n",
    "mean_price_gear"
   ]
  },
  {
   "cell_type": "code",
   "execution_count": 60,
   "id": "5eec71dc-6ad8-45a8-8c67-fe92ab9fe104",
   "metadata": {},
   "outputs": [
    {
     "data": {
      "image/png": "[encoded data removed]",
      "text/plain": [
       "<Figure size 432x288 with 1 Axes>"
      ]
     },
     "metadata": {
      "needs_background": "light"
     },
     "output_type": "display_data"
    }
   ],
   "source": [
    "sns.barplot(mean_price_gear['Gear box type'], mean_price_gear['Price'], alpha = 0.8)\n",
    "plt.title('Mean Sales Price for each Gear box type')\n",
    "plt.ylabel('Mean Price', fontsize = 12)\n",
    "plt.xlabel('Gear box type', fontsize = 12)\n",
    "plt.show()"
   ]
  },
  {
   "cell_type": "markdown",
   "id": "269bf99c-a24e-4dbc-9044-44b40a33315b",
   "metadata": {},
   "source": [
    "***From the above graph, we can see that automatic, variator have similar price. Similarly, the cars having manual, tiptronic have similar price.***"
   ]
  },
  {
   "cell_type": "markdown",
   "id": "7d7177df-b36f-48de-b992-a0a5824ad218",
   "metadata": {},
   "source": [
    "## Drive wheels"
   ]
  },
  {
   "cell_type": "code",
   "execution_count": 61,
   "id": "d13a0aeb-7aee-4b3b-9c4d-dadb9cdffefb",
   "metadata": {},
   "outputs": [],
   "source": [
    "### Value counts of the column - Drive wheels"
   ]
  },
  {
   "cell_type": "code",
   "execution_count": 62,
   "id": "6ed1f810-7424-4332-a288-ad760a72354e",
   "metadata": {},
   "outputs": [
    {
     "data": {
      "text/plain": [
       "Front    12874\n",
       "4x4       4058\n",
       "Rear      2305\n",
       "Name: Drive wheels, dtype: int64"
      ]
     },
     "execution_count": 62,
     "metadata": {},
     "output_type": "execute_result"
    }
   ],
   "source": [
    "drive_count = dataset['Drive wheels'].value_counts(dropna = False)\n",
    "drive_count"
   ]
  },
  {
   "cell_type": "code",
   "execution_count": 63,
   "id": "a886b999-8e84-48ac-a409-9c31fde57ecf",
   "metadata": {},
   "outputs": [
    {
     "data": {
      "image/png": "[encoded data removed]",
      "text/plain": [
       "<Figure size 432x288 with 1 Axes>"
      ]
     },
     "metadata": {
      "needs_background": "light"
     },
     "output_type": "display_data"
    }
   ],
   "source": [
    "sns.barplot(drive_count.index, drive_count.values, alpha = 0.8)\n",
    "plt.title('Bar graph showing the value counts of the column - Drive wheels')\n",
    "plt.ylabel('Number of Occurrences', fontsize = 12)\n",
    "plt.xlabel('Drive wheels', fontsize = 12)\n",
    "plt.show()"
   ]
  },
  {
   "cell_type": "markdown",
   "id": "2f65e4a1-79c2-453f-86d6-c85707e5e7fa",
   "metadata": {},
   "source": [
    "***From the above graph, we can see that most of the cars have Front drive wheels.****"
   ]
  },
  {
   "cell_type": "code",
   "execution_count": 64,
   "id": "fb60b688-facd-43be-a876-14f2605f5ab7",
   "metadata": {},
   "outputs": [
    {
     "data": {
      "text/html": [
       "<div>\n",
       "<style scoped>\n",
       "    .dataframe tbody tr th:only-of-type {\n",
       "        vertical-align: middle;\n",
       "    }\n",
       "\n",
       "    .dataframe tbody tr th {\n",
       "        vertical-align: top;\n",
       "    }\n",
       "\n",
       "    .dataframe thead th {\n",
       "        text-align: right;\n",
       "    }\n",
       "</style>\n",
       "<table border=\"1\" class=\"dataframe\">\n",
       "  <thead>\n",
       "    <tr style=\"text-align: right;\">\n",
       "      <th></th>\n",
       "      <th>Drive wheels</th>\n",
       "      <th>Price</th>\n",
       "    </tr>\n",
       "  </thead>\n",
       "  <tbody>\n",
       "    <tr>\n",
       "      <th>0</th>\n",
       "      <td>4x4</td>\n",
       "      <td>19535.423854</td>\n",
       "    </tr>\n",
       "    <tr>\n",
       "      <th>1</th>\n",
       "      <td>Front</td>\n",
       "      <td>18491.339055</td>\n",
       "    </tr>\n",
       "    <tr>\n",
       "      <th>2</th>\n",
       "      <td>Rear</td>\n",
       "      <td>17192.244252</td>\n",
       "    </tr>\n",
       "  </tbody>\n",
       "</table>\n",
       "</div>"
      ],
      "text/plain": [
       "  Drive wheels         Price\n",
       "0          4x4  19535.423854\n",
       "1        Front  18491.339055\n",
       "2         Rear  17192.244252"
      ]
     },
     "execution_count": 64,
     "metadata": {},
     "output_type": "execute_result"
    }
   ],
   "source": [
    "mean_price_drive = dataset[['Drive wheels', 'Price']].groupby('Drive wheels', as_index = False).mean()\n",
    "mean_price_drive"
   ]
  },
  {
   "cell_type": "code",
   "execution_count": 65,
   "id": "cd6a497f-75c1-4bd1-a41f-8f43c1d5983e",
   "metadata": {},
   "outputs": [
    {
     "data": {
      "image/png": "[encoded data removed]",
      "text/plain": [
       "<Figure size 432x288 with 1 Axes>"
      ]
     },
     "metadata": {
      "needs_background": "light"
     },
     "output_type": "display_data"
    }
   ],
   "source": [
    "sns.barplot(mean_price_drive['Drive wheels'], mean_price_drive['Price'], alpha = 0.8)\n",
    "plt.title('Mean Sales Price for each Drive wheels')\n",
    "plt.ylabel('Mean Price', fontsize = 12)\n",
    "plt.xlabel('Drive wheels', fontsize = 12)\n",
    "plt.show()"
   ]
  },
  {
   "cell_type": "markdown",
   "id": "b940a4dd-e213-4756-869f-b796178aebe5",
   "metadata": {},
   "source": [
    "***From the above graph, we can see that the mean sales price of all the drive wheels is similar.***"
   ]
  },
  {
   "cell_type": "markdown",
   "id": "8a324a1d-d3c9-4cd4-9f6d-a813b91f8f74",
   "metadata": {},
   "source": [
    "## Color"
   ]
  },
  {
   "cell_type": "code",
   "execution_count": 66,
   "id": "82eeff00-67a7-45f2-8af1-679a6a681c0c",
   "metadata": {},
   "outputs": [
    {
     "data": {
      "text/plain": [
       "Black            5033\n",
       "White            4489\n",
       "Silver           3792\n",
       "Grey             2375\n",
       "Blue             1396\n",
       "Red               639\n",
       "Green             322\n",
       "Orange            253\n",
       "Brown             187\n",
       "Carnelian red     179\n",
       "Golden            145\n",
       "Beige             134\n",
       "Sky blue          122\n",
       "Yellow            106\n",
       "Purple             39\n",
       "Pink               26\n",
       "Name: Color, dtype: int64"
      ]
     },
     "execution_count": 66,
     "metadata": {},
     "output_type": "execute_result"
    }
   ],
   "source": [
    "color_count = dataset['Color'].value_counts(dropna = False)\n",
    "color_count"
   ]
  },
  {
   "cell_type": "code",
   "execution_count": 67,
   "id": "4d05ae1b-a33a-454d-adc7-10906e022856",
   "metadata": {},
   "outputs": [
    {
     "data": {
      "image/png": "[encoded data removed]",
      "text/plain": [
       "<Figure size 1008x360 with 1 Axes>"
      ]
     },
     "metadata": {
      "needs_background": "light"
     },
     "output_type": "display_data"
    }
   ],
   "source": [
    "plt.figure(figsize = (14, 5))\n",
    "sns.barplot(color_count.index, color_count.values, alpha = 0.8)\n",
    "plt.title('Bar graph showing the value counts of the column - Color')\n",
    "plt.ylabel('Number of Occurrences', fontsize = 12)\n",
    "plt.xlabel('Color', fontsize = 12)\n",
    "plt.show()"
   ]
  },
  {
   "cell_type": "markdown",
   "id": "f70d3eb5-572c-45ac-9e9c-4efe3cc42926",
   "metadata": {},
   "source": [
    "***From the above graph, we can see that most of the colors of the cars have insufficient data.***"
   ]
  },
  {
   "cell_type": "code",
   "execution_count": 68,
   "id": "aefbc2ee-04f9-430a-ba2f-9a05345709f8",
   "metadata": {},
   "outputs": [
    {
     "data": {
      "text/html": [
       "<div>\n",
       "<style scoped>\n",
       "    .dataframe tbody tr th:only-of-type {\n",
       "        vertical-align: middle;\n",
       "    }\n",
       "\n",
       "    .dataframe tbody tr th {\n",
       "        vertical-align: top;\n",
       "    }\n",
       "\n",
       "    .dataframe thead th {\n",
       "        text-align: right;\n",
       "    }\n",
       "</style>\n",
       "<table border=\"1\" class=\"dataframe\">\n",
       "  <thead>\n",
       "    <tr style=\"text-align: right;\">\n",
       "      <th></th>\n",
       "      <th>Color</th>\n",
       "      <th>Price</th>\n",
       "    </tr>\n",
       "  </thead>\n",
       "  <tbody>\n",
       "    <tr>\n",
       "      <th>0</th>\n",
       "      <td>Beige</td>\n",
       "      <td>15627.559701</td>\n",
       "    </tr>\n",
       "    <tr>\n",
       "      <th>1</th>\n",
       "      <td>Black</td>\n",
       "      <td>18886.917346</td>\n",
       "    </tr>\n",
       "    <tr>\n",
       "      <th>2</th>\n",
       "      <td>Blue</td>\n",
       "      <td>33726.850287</td>\n",
       "    </tr>\n",
       "    <tr>\n",
       "      <th>3</th>\n",
       "      <td>Brown</td>\n",
       "      <td>19709.636364</td>\n",
       "    </tr>\n",
       "    <tr>\n",
       "      <th>4</th>\n",
       "      <td>Carnelian red</td>\n",
       "      <td>15820.927374</td>\n",
       "    </tr>\n",
       "    <tr>\n",
       "      <th>5</th>\n",
       "      <td>Golden</td>\n",
       "      <td>14678.551724</td>\n",
       "    </tr>\n",
       "    <tr>\n",
       "      <th>6</th>\n",
       "      <td>Green</td>\n",
       "      <td>9449.677019</td>\n",
       "    </tr>\n",
       "    <tr>\n",
       "      <th>7</th>\n",
       "      <td>Grey</td>\n",
       "      <td>19203.448000</td>\n",
       "    </tr>\n",
       "    <tr>\n",
       "      <th>8</th>\n",
       "      <td>Orange</td>\n",
       "      <td>13008.422925</td>\n",
       "    </tr>\n",
       "    <tr>\n",
       "      <th>9</th>\n",
       "      <td>Pink</td>\n",
       "      <td>10649.076923</td>\n",
       "    </tr>\n",
       "    <tr>\n",
       "      <th>10</th>\n",
       "      <td>Purple</td>\n",
       "      <td>8837.384615</td>\n",
       "    </tr>\n",
       "    <tr>\n",
       "      <th>11</th>\n",
       "      <td>Red</td>\n",
       "      <td>13553.275430</td>\n",
       "    </tr>\n",
       "    <tr>\n",
       "      <th>12</th>\n",
       "      <td>Silver</td>\n",
       "      <td>15091.806962</td>\n",
       "    </tr>\n",
       "    <tr>\n",
       "      <th>13</th>\n",
       "      <td>Sky blue</td>\n",
       "      <td>14079.000000</td>\n",
       "    </tr>\n",
       "    <tr>\n",
       "      <th>14</th>\n",
       "      <td>White</td>\n",
       "      <td>18204.295389</td>\n",
       "    </tr>\n",
       "    <tr>\n",
       "      <th>15</th>\n",
       "      <td>Yellow</td>\n",
       "      <td>20666.584906</td>\n",
       "    </tr>\n",
       "  </tbody>\n",
       "</table>\n",
       "</div>"
      ],
      "text/plain": [
       "            Color         Price\n",
       "0           Beige  15627.559701\n",
       "1           Black  18886.917346\n",
       "2            Blue  33726.850287\n",
       "3           Brown  19709.636364\n",
       "4   Carnelian red  15820.927374\n",
       "5          Golden  14678.551724\n",
       "6           Green   9449.677019\n",
       "7            Grey  19203.448000\n",
       "8          Orange  13008.422925\n",
       "9            Pink  10649.076923\n",
       "10         Purple   8837.384615\n",
       "11            Red  13553.275430\n",
       "12         Silver  15091.806962\n",
       "13       Sky blue  14079.000000\n",
       "14          White  18204.295389\n",
       "15         Yellow  20666.584906"
      ]
     },
     "execution_count": 68,
     "metadata": {},
     "output_type": "execute_result"
    }
   ],
   "source": [
    "mean_price_color = dataset[['Color', 'Price']].groupby('Color', as_index = False).mean()\n",
    "mean_price_color"
   ]
  },
  {
   "cell_type": "code",
   "execution_count": 69,
   "id": "d7031ce5-5c3a-4f66-8dca-32310607af03",
   "metadata": {},
   "outputs": [
    {
     "data": {
      "image/png": "[encoded data removed]",
      "text/plain": [
       "<Figure size 1008x360 with 1 Axes>"
      ]
     },
     "metadata": {
      "needs_background": "light"
     },
     "output_type": "display_data"
    }
   ],
   "source": [
    "plt.figure(figsize = (14, 5))\n",
    "sns.barplot(mean_price_color['Color'], mean_price_color['Price'], alpha = 0.8)\n",
    "plt.title('Mean Sales Price for each Color')\n",
    "plt.ylabel('Mean Price', fontsize = 12)\n",
    "plt.xlabel('Color', fontsize = 12)\n",
    "plt.show()"
   ]
  },
  {
   "cell_type": "code",
   "execution_count": null,
   "id": "3f8e0dd7-a5e0-426f-ab1f-b2c1a09c0847",
   "metadata": {},
   "outputs": [],
   "source": []
  }
 ],
 "metadata": {
  "kernelspec": {
   "display_name": "Python 3 (ipykernel)",
   "language": "python",
   "name": "python3"
  },
  "language_info": {
   "codemirror_mode": {
    "name": "ipython",
    "version": 3
   },
   "file_extension": ".py",
   "mimetype": "text/x-python",
   "name": "python",
   "nbconvert_exporter": "python",
   "pygments_lexer": "ipython3",
   "version": "3.9.12"
  }
 },
 "nbformat": 4,
 "nbformat_minor": 5
}
